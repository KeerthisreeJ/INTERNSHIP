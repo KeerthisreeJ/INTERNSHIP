import pandas as pd
import numpy as np
from sklearn.model_selection import train_test_split
from sklearn.preprocessing import StandardScaler, PolynomialFeatures
from sklearn.linear_model import LinearRegression
from sklearn.ensemble import RandomForestRegressor
from sklearn.metrics import mean_squared_error, r2_score

file_path = 'bf3_data_2022_01_07.xlsx'
data = pd.read_excel(file_path)

data['RATIO_CO_CO2'] = data['CO'] / data['CO2']

X = data.drop(['CO', 'CO2', 'RATIO_CO_CO2'], axis=1)
y_CO = data['CO']
y_CO2 = data['CO2']
y_ratio = data['RATIO_CO_CO2']

X_train, X_remaining, y_train_CO, y_remaining_CO, y_train_CO2, y_remaining_CO2, y_train_ratio, y_remaining_ratio = train_test_split(
    X, y_CO, y_CO2, y_ratio, test_size=0.3, random_state=42
)

X_val, X_test, y_val_CO, y_test_CO, y_val_CO2, y_test_CO2, y_val_ratio, y_test_ratio = train_test_split(
    X_remaining, y_remaining_CO, y_remaining_CO2, y_remaining_ratio, test_size=1/3, random_state=42
)

data['RATIO_CO_CO2_1hr'] = data['RATIO_CO_CO2'].shift(-6)
data['RATIO_CO_CO2_2hr'] = data['RATIO_CO_CO2'].shift(-12)
data['RATIO_CO_CO2_3hr'] = data['RATIO_CO_CO2'].shift(-18)
data['RATIO_CO_CO2_4hr'] = data['RATIO_CO_CO2'].shift(-24)

train_data = data.dropna()

X = train_data.drop(['DATE_TIME', 'CO', 'CO2', 'RATIO_CO_CO2', 'RATIO_CO_CO2_1hr', 'RATIO_CO_CO2_2hr', 'RATIO_CO_CO2_3hr', 'RATIO_CO_CO2_4hr'], axis=1)
y_1hr = train_data['RATIO_CO_CO2_1hr']
y_2hr = train_data['RATIO_CO_CO2_2hr']
y_3hr = train_data['RATIO_CO_CO2_3hr']
y_4hr = train_data['RATIO_CO_CO2_4hr']

X_train_1hr, X_temp_1hr, y_train_1hr, y_temp_1hr = train_test_split(X, y_1hr, test_size=0.3, random_state=42)
X_val_1hr, X_test_1hr, y_val_1hr, y_test_1hr = train_test_split(X_temp_1hr, y_temp_1hr, test_size=0.33, random_state=42)

X_train_2hr, X_temp_2hr, y_train_2hr, y_temp_2hr = train_test_split(X, y_2hr, test_size=0.3, random_state=42)
X_val_2hr, X_test_2hr, y_val_2hr, y_test_2hr = train_test_split(X_temp_2hr, y_temp_2hr, test_size=0.33, random_state=42)

X_train_3hr, X_temp_3hr, y_train_3hr, y_temp_3hr = train_test_split(X, y_3hr, test_size=0.3, random_state=42)
X_val_3hr, X_test_3hr, y_val_3hr, y_test_3hr = train_test_split(X_temp_3hr, y_temp_3hr, test_size=0.33, random_state=42)

X_train_4hr, X_temp_4hr, y_train_4hr, y_temp_4hr = train_test_split(X, y_4hr, test_size=0.3, random_state=42)
X_val_4hr, X_test_4hr, y_val_4hr, y_test_4hr = train_test_split(X_temp_4hr, y_temp_4hr, test_size=0.33, random_state=42)

scaler = StandardScaler()
poly_features = PolynomialFeatures(degree=2)

model_mlr_1hr = LinearRegression()
model_pr_1hr = LinearRegression()
model_rf_1hr = RandomForestRegressor(n_estimators=100, random_state=42)

model_mlr_2hr = LinearRegression()
model_pr_2hr = LinearRegression()
model_rf_2hr = RandomForestRegressor(n_estimators=100, random_state=42)

model_mlr_3hr = LinearRegression()
model_pr_3hr = LinearRegression()
model_rf_3hr = RandomForestRegressor(n_estimators=100, random_state=42)

model_mlr_4hr = LinearRegression()
model_pr_4hr = LinearRegression()
model_rf_4hr = RandomForestRegressor(n_estimators=100, random_state=42)

X_train_1hr_scaled = scaler.fit_transform(X_train_1hr)
X_val_1hr_scaled = scaler.transform(X_val_1hr)
X_test_1hr_scaled = scaler.transform(X_test_1hr)

X_train_2hr_scaled = scaler.fit_transform(X_train_2hr)
X_val_2hr_scaled = scaler.transform(X_val_2hr)
X_test_2hr_scaled = scaler.transform(X_test_2hr)

X_train_3hr_scaled = scaler.fit_transform(X_train_3hr)
X_val_3hr_scaled = scaler.transform(X_val_3hr)
X_test_3hr_scaled = scaler.transform(X_test_3hr)

X_train_4hr_scaled = scaler.fit_transform(X_train_4hr)
X_val_4hr_scaled = scaler.transform(X_val_4hr)
X_test_4hr_scaled = scaler.transform(X_test_4hr)

X_train_1hr_poly = poly_features.fit_transform(X_train_1hr_scaled)
X_val_1hr_poly = poly_features.transform(X_val_1hr_scaled)
X_test_1hr_poly = poly_features.transform(X_test_1hr_scaled)

X_train_2hr_poly = poly_features.fit_transform(X_train_2hr_scaled)
X_val_2hr_poly = poly_features.transform(X_val_2hr_scaled)
X_test_2hr_poly = poly_features.transform(X_test_2hr_scaled)

X_train_3hr_poly = poly_features.fit_transform(X_train_3hr_scaled)
X_val_3hr_poly = poly_features.transform(X_val_3hr_scaled)
X_test_3hr_poly = poly_features.transform(X_test_3hr_scaled)

X_train_4hr_poly = poly_features.fit_transform(X_train_4hr_scaled)
X_val_4hr_poly = poly_features.transform(X_val_4hr_scaled)
X_test_4hr_poly = poly_features.transform(X_test_4hr_scaled)

model_mlr_1hr.fit(X_train_1hr_scaled, y_train_1hr)
model_pr_1hr.fit(X_train_1hr_poly, y_train_1hr)
model_rf_1hr.fit(X_train_1hr_scaled, y_train_1hr)

model_mlr_2hr.fit(X_train_2hr_scaled, y_train_2hr)
model_pr_2hr.fit(X_train_2hr_poly, y_train_2hr)
model_rf_2hr.fit(X_train_2hr_scaled, y_train_2hr)

model_mlr_3hr.fit(X_train_3hr_scaled, y_train_3hr)
model_pr_3hr.fit(X_train_3hr_poly, y_train_3hr)
model_rf_3hr.fit(X_train_3hr_scaled, y_train_3hr)

model_mlr_4hr.fit(X_train_4hr_scaled, y_train_4hr)
model_pr_4hr.fit(X_train_4hr_poly, y_train_4hr)
model_rf_4hr.fit(X_train_4hr_scaled, y_train_4hr)

val_pred_1hr_mlr = model_mlr_1hr.predict(X_val_1hr_scaled)
val_pred_1hr_pr = model_pr_1hr.predict(X_val_1hr_poly)
val_pred_1hr_rf = model_rf_1hr.predict(X_val_1hr_scaled)

val_pred_2hr_mlr = model_mlr_2hr.predict(X_val_2hr_scaled)
val_pred_2hr_pr = model_pr_2hr.predict(X_val_2hr_poly)
val_pred_2hr_rf = model_rf_2hr.predict(X_val_2hr_scaled)

val_pred_3hr_mlr = model_mlr_3hr.predict(X_val_3hr_scaled)
val_pred_3hr_pr = model_pr_3hr.predict(X_val_3hr_poly)
val_pred_3hr_rf = model_rf_3hr.predict(X_val_3hr_scaled)

val_pred_4hr_mlr = model_mlr_4hr.predict(X_val_4hr_scaled)
val_pred_4hr_pr = model_pr_4hr.predict(X_val_4hr_poly)
val_pred_4hr_rf = model_rf_4hr.predict(X_val_4hr_scaled)

val_mse_1hr_mlr = mean_squared_error(y_val_1hr, val_pred_1hr_mlr)
val_r2_1hr_mlr = r2_score(y_val_1hr, val_pred_1hr_mlr)

val_mse_1hr_pr = mean_squared_error(y_val_1hr, val_pred_1hr_pr)
val_r2_1hr_pr = r2_score(y_val_1hr, val_pred_1hr_pr)

val_mse_1hr_rf = mean_squared_error(y_val_1hr, val_pred_1hr_rf)
val_r2_1hr_rf = r2_score(y_val_1hr, val_pred_1hr_rf)

val_mse_2hr_mlr = mean_squared_error(y_val_2hr, val_pred_2hr_mlr)
val_r2_2hr_mlr = r2_score(y_val_2hr, val_pred_2hr_mlr)

val_mse_2hr_pr = mean_squared_error(y_val_2hr, val_pred_2hr_pr)
val_r2_2hr_pr = r2_score(y_val_2hr, val_pred_2hr_pr)

val_mse_2hr_rf = mean_squared_error(y_val_2hr, val_pred_2hr_rf)
val_r2_2hr_rf = r2_score(y_val_2hr, val_pred_2hr_rf)

val_mse_3hr_mlr = mean_squared_error(y_val_3hr, val_pred_3hr_mlr)
val_r2_3hr_mlr = r2_score(y_val_3hr, val_pred_3hr_mlr)

val_mse_3hr_pr = mean_squared_error(y_val_3hr, val_pred_3hr_pr)
val_r2_3hr_pr = r2_score(y_val_3hr, val_pred_3hr_pr)

val_mse_3hr_rf = mean_squared_error(y_val_3hr, val_pred_3hr_rf)
val_r2_3hr_rf = r2_score(y_val_3hr, val_pred_3hr_rf)

val_mse_4hr_mlr = mean_squared_error(y_val_4hr, val_pred_4hr_mlr)
val_r2_4hr_mlr = r2_score(y_val_4hr, val_pred_4hr_mlr)

val_mse_4hr_pr = mean_squared_error(y_val_4hr, val_pred_4hr_pr)
val_r2_4hr_pr = r2_score(y_val_4hr, val_pred_4hr_pr)

val_mse_4hr_rf = mean_squared_error(y_val_4hr, val_pred_4hr_rf)
val_r2_4hr_rf = r2_score(y_val_4hr, val_pred_4hr_rf)

print(f"Validation MSE 1hr MLR: {val_mse_1hr_mlr}, R2 1hr MLR: {val_r2_1hr_mlr}")
print(f"Validation MSE 1hr PR: {val_mse_1hr_pr}, R2 1hr PR: {val_r2_1hr_pr}")
print(f"Validation MSE 1hr RF: {val_mse_1hr_rf}, R2 1hr RF: {val_r2_1hr_rf}")

print(f"Validation MSE 2hr MLR: {val_mse_2hr_mlr}, R2 2hr MLR: {val_r2_2hr_mlr}")
print(f"Validation MSE 2hr PR: {val_mse_2hr_pr}, R2 2hr PR: {val_r2_2hr_pr}")
print(f"Validation MSE 2hr RF: {val_mse_2hr_rf}, R2 2hr RF: {val_r2_2hr_rf}")

print(f"Validation MSE 3hr MLR: {val_mse_3hr_mlr}, R2 3hr MLR: {val_r2_3hr_mlr}")
print(f"Validation MSE 3hr PR: {val_mse_3hr_pr}, R2 3hr PR: {val_r2_3hr_pr}")
print(f"Validation MSE 3hr RF: {val_mse_3hr_rf}, R2 3hr RF: {val_r2_3hr_rf}")

print(f"Validation MSE 4hr MLR: {val_mse_4hr_mlr}, R2 4hr MLR: {val_r2_4hr_mlr}")
print(f"Validation MSE 4hr PR: {val_mse_4hr_pr}, R2 4hr PR: {val_r2_4hr_pr}")
print(f"Validation MSE 4hr RF: {val_mse_4hr_rf}, R2 4hr RF: {val_r2_4hr_rf}")

test_pred_1hr_mlr = model_mlr_1hr.predict(X_test_1hr_scaled)
test_pred_1hr_pr = model_pr_1hr.predict(X_test_1hr_poly)
test_pred_1hr_rf = model_rf_1hr.predict(X_test_1hr_scaled)

test_pred_2hr_mlr = model_mlr_2hr.predict(X_test_2hr_scaled)
test_pred_2hr_pr = model_pr_2hr.predict(X_test_2hr_poly)
test_pred_2hr_rf = model_rf_2hr.predict(X_test_2hr_scaled)

test_pred_3hr_mlr = model_mlr_3hr.predict(X_test_3hr_scaled)
test_pred_3hr_pr = model_pr_3hr.predict(X_test_3hr_poly)
test_pred_3hr_rf = model_rf_3hr.predict(X_test_3hr_scaled)

test_pred_4hr_mlr = model_mlr_4hr.predict(X_test_4hr_scaled)
test_pred_4hr_pr = model_pr_4hr.predict(X_test_4hr_poly)
test_pred_4hr_rf = model_rf_4hr.predict(X_test_4hr_scaled)

test_mse_1hr_mlr = mean_squared_error(y_test_1hr, test_pred_1hr_mlr)
test_r2_1hr_mlr = r2_score(y_test_1hr, test_pred_1hr_mlr)

test_mse_1hr_pr = mean_squared_error(y_test_1hr, test_pred_1hr_pr)
test_r2_1hr_pr = r2_score(y_test_1hr, test_pred_1hr_pr)

test_mse_1hr_rf = mean_squared_error(y_test_1hr, test_pred_1hr_rf)
test_r2_1hr_rf = r2_score(y_test_1hr, test_pred_1hr_rf)

test_mse_2hr_mlr = mean_squared_error(y_test_2hr, test_pred_2hr_mlr)
test_r2_2hr_mlr = r2_score(y_test_2hr, test_pred_2hr_mlr)

test_mse_2hr_pr = mean_squared_error(y_test_2hr, test_pred_2hr_pr)
test_r2_2hr_pr = r2_score(y_test_2hr, test_pred_2hr_pr)

test_mse_2hr_rf = mean_squared_error(y_test_2hr, test_pred_2hr_rf)
test_r2_2hr_rf = r2_score(y_test_2hr, test_pred_2hr_rf)

test_mse_3hr_mlr = mean_squared_error(y_test_3hr, test_pred_3hr_mlr)
test_r2_3hr_mlr = r2_score(y_test_3hr, test_pred_3hr_mlr)

test_mse_3hr_pr = mean_squared_error(y_test_3hr, test_pred_3hr_pr)
test_r2_3hr_pr = r2_score(y_test_3hr, test_pred_3hr_pr)

test_mse_3hr_rf = mean_squared_error(y_test_3hr, test_pred_3hr_rf)
test_r2_3hr_rf = r2_score(y_test_3hr, test_pred_3hr_rf)

test_mse_4hr_mlr = mean_squared_error(y_test_4hr, test_pred_4hr_mlr)
test_r2_4hr_mlr = r2_score(y_test_4hr, test_pred_4hr_mlr)

test_mse_4hr_pr = mean_squared_error(y_test_4hr, test_pred_4hr_pr)
test_r2_4hr_pr = r2_score(y_test_4hr, test_pred_4hr_pr)

test_mse_4hr_rf = mean_squared_error(y_test_4hr, test_pred_4hr_rf)
test_r2_4hr_rf = r2_score(y_test_4hr, test_pred_4hr_rf)

print(f"Test MSE 1hr MLR: {test_mse_1hr_mlr}, R2 1hr MLR: {test_r2_1hr_mlr}")
print(f"Test MSE 1hr PR: {test_mse_1hr_pr}, R2 1hr PR: {test_r2_1hr_pr}")
print(f"Test MSE 1hr RF: {test_mse_1hr_rf}, R2 1hr RF: {test_r2_1hr_rf}")

print(f"Test MSE 2hr MLR: {test_mse_2hr_mlr}, R2 2hr MLR: {test_r2_2hr_mlr}")
print(f"Test MSE 2hr PR: {test_mse_2hr_pr}, R2 2hr PR: {test_r2_2hr_pr}")
print(f"Test MSE 2hr RF: {test_mse_2hr_rf}, R2 2hr RF: {test_r2_2hr_rf}")

print(f"Test MSE 3hr MLR: {test_mse_3hr_mlr}, R2 3hr MLR: {test_r2_3hr_mlr}")
print(f"Test MSE 3hr PR: {test_mse_3hr_pr}, R2 3hr PR: {test_r2_3hr_pr}")
print(f"Test MSE 3hr RF: {test_mse_3hr_rf}, R2 3hr RF: {test_r2_3hr_rf}")

print(f"Test MSE 4hr MLR: {test_mse_4hr_mlr}, R2 4hr MLR: {test_r2_4hr_mlr}")
print(f"Test MSE 4hr PR: {test_mse_4hr_pr}, R2 4hr PR: {test_r2_4hr_pr}")
print(f"Test MSE 4hr RF: {test_mse_4hr_rf}, R2 4hr RF: {test_r2_4hr_rf}")

import matplotlib.pyplot as plt

# Plot settings
plt.figure(figsize=(14, 10))

# 1-hour ahead prediction
plt.subplot(2, 2, 1)
plt.plot(y_test_1hr.index, y_test_1hr, label='Actual', color='blue')
plt.plot(y_test_1hr.index, test_pred_1hr_mlr, label='MLR Predicted', color='green')
plt.plot(y_test_1hr.index, test_pred_1hr_pr, label='PR Predicted', color='orange')
plt.plot(y_test_1hr.index, test_pred_1hr_rf, label='RF Predicted', color='red')
plt.title('1-hour ahead CO/CO2 Ratio Prediction')
plt.xlabel('Index')
plt.ylabel('CO/CO2 Ratio')
plt.legend()

# 2-hour ahead prediction
plt.subplot(2, 2, 2)
plt.plot(y_test_2hr.index, y_test_2hr, label='Actual', color='blue')
plt.plot(y_test_2hr.index, test_pred_2hr_mlr, label='MLR Predicted', color='green')
plt.plot(y_test_2hr.index, test_pred_2hr_pr, label='PR Predicted', color='orange')
plt.plot(y_test_2hr.index, test_pred_2hr_rf, label='RF Predicted', color='red')
plt.title('2-hour ahead CO/CO2 Ratio Prediction')
plt.xlabel('Index')
plt.ylabel('CO/CO2 Ratio')
plt.legend()

# 3-hour ahead prediction
plt.subplot(2, 2, 3)
plt.plot(y_test_3hr.index, y_test_3hr, label='Actual', color='blue')
plt.plot(y_test_3hr.index, test_pred_3hr_mlr, label='MLR Predicted', color='green')
plt.plot(y_test_3hr.index, test_pred_3hr_pr, label='PR Predicted', color='orange')
plt.plot(y_test_3hr.index, test_pred_3hr_rf, label='RF Predicted', color='red')
plt.title('3-hour ahead CO/CO2 Ratio Prediction')
plt.xlabel('Index')
plt.ylabel('CO/CO2 Ratio')
plt.legend()

# 4-hour ahead prediction
plt.subplot(2, 2, 4)
plt.plot(y_test_4hr.index, y_test_4hr, label='Actual', color='blue')
plt.plot(y_test_4hr.index, test_pred_4hr_mlr, label='MLR Predicted', color='green')
plt.plot(y_test_4hr.index, test_pred_4hr_pr, label='PR Predicted', color='orange')
plt.plot(y_test_4hr.index, test_pred_4hr_rf, label='RF Predicted', color='red')
plt.title('4-hour ahead CO/CO2 Ratio Prediction')
plt.xlabel('Index')
plt.ylabel('CO/CO2 Ratio')
plt.legend()

print(f"Test MSE 1hr MLR: {test_mse_1hr_mlr}, R2 1hr MLR: {test_r2_1hr_mlr}")
print(f"Test MSE 1hr PR: {test_mse_1hr_pr}, R2 1hr PR: {test_r2_1hr_pr}")
print(f"Test MSE 1hr RF: {test_mse_1hr_rf}, R2 1hr RF: {test_r2_1hr_rf}")

print(f"Test MSE 2hr MLR: {test_mse_2hr_mlr}, R2 2hr MLR: {test_r2_2hr_mlr}")
print(f"Test MSE 2hr PR: {test_mse_2hr_pr}, R2 2hr PR: {test_r2_2hr_pr}")
print(f"Test MSE 2hr RF: {test_mse_2hr_rf}, R2 2hr RF: {test_r2_2hr_rf}")

print(f"Test MSE 3hr MLR: {test_mse_3hr_mlr}, R2 3hr MLR: {test_r2_3hr_mlr}")
print(f"Test MSE 3hr PR: {test_mse_3hr_pr}, R2 3hr PR: {test_r2_3hr_pr}")
print(f"Test MSE 3hr RF: {test_mse_3hr_rf}, R2 3hr RF: {test_r2_3hr_rf}")

print(f"Test MSE 4hr MLR: {test_mse_4hr_mlr}, R2 4hr MLR: {test_r2_4hr_mlr}")
print(f"Test MSE 4hr PR: {test_mse_4hr_pr}, R2 4hr PR: {test_r2_4hr_pr}")
print(f"Test MSE 4hr RF: {test_mse_4hr_rf}, R2 4hr RF: {test_r2_4hr_rf}")


plt.tight_layout()
plt.show()

